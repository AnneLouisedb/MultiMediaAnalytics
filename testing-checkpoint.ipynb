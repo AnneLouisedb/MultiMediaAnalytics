{
 "cells": [
  {
   "cell_type": "code",
   "execution_count": 17,
   "metadata": {},
   "outputs": [],
   "source": [
    "from jupyterlab_dagitty import DAG"
   ]
  },
  {
   "cell_type": "code",
   "execution_count": 18,
   "metadata": {},
   "outputs": [
    {
     "data": {
      "application/x.dagitty.dag": "\ndag {\nA [pos=\"-2.200,-1.520\"]\nB [pos=\"1.400,-1.460\"]\nD [outcome,pos=\"1.400,1.621\"]\nE [exposure,pos=\"-2.200,1.597\"]\nZ [pos=\"-0.300,-0.082\"]\nA -> E\nA -> Z [pos=\"-0.791,-1.045\"]\nB -> D\nB -> Z [pos=\"0.680,-0.496\"]\nE -> D\n}\n",
      "text/plain": [
       "<jupyterlab_dagitty.dag.DAG at 0x110039f40>"
      ]
     },
     "execution_count": 18,
     "metadata": {
      "height": "500px",
      "mutable": false
     },
     "output_type": "execute_result"
    }
   ],
   "source": [
    "m_bias_code = \"\"\"\n",
    "dag {\n",
    "A [pos=\"-2.200,-1.520\"]\n",
    "B [pos=\"1.400,-1.460\"]\n",
    "D [outcome,pos=\"1.400,1.621\"]\n",
    "E [exposure,pos=\"-2.200,1.597\"]\n",
    "Z [pos=\"-0.300,-0.082\"]\n",
    "A -> E\n",
    "A -> Z [pos=\"-0.791,-1.045\"]\n",
    "B -> D\n",
    "B -> Z [pos=\"0.680,-0.496\"]\n",
    "E -> D\n",
    "}\n",
    "\"\"\"\n",
    "DAG(m_bias_code)"
   ]
  },
  {
   "cell_type": "code",
   "execution_count": 19,
   "metadata": {},
   "outputs": [
    {
     "data": {
      "application/x.dagitty.dag": "\ndag {\nA [pos=\"-2.200,-1.520\"]\nB [pos=\"1.400,-1.460\"]\nD [outcome,pos=\"1.400,1.621\"]\nE [exposure,pos=\"-2.200,1.597\"]\nZ [pos=\"-0.300,-0.082\"]\nA -> E\nA -> Z [pos=\"-0.791,-1.045\"]\nB -> D\nB -> Z [pos=\"0.680,-0.496\"]\nE -> D\n}\n",
      "text/plain": [
       "<jupyterlab_dagitty.dag.DAG at 0x110039dc0>"
      ]
     },
     "execution_count": 19,
     "metadata": {
      "height": "200px",
      "mutable": true
     },
     "output_type": "execute_result"
    }
   ],
   "source": [
    "DAG(m_bias_code, height=200, mutable=True)"
   ]
  },
  {
   "cell_type": "code",
   "execution_count": 25,
   "metadata": {},
   "outputs": [
    {
     "ename": "ImportError",
     "evalue": "cannot import name 'plot' from 'jupyterlab_dagitty' (/Users/annelouisedeboer/Documents/GitHub/MultiMediaAnalytics/.venv/lib/python3.9/site-packages/jupyterlab_dagitty/__init__.py)",
     "output_type": "error",
     "traceback": [
      "\u001b[0;31m---------------------------------------------------------------------------\u001b[0m",
      "\u001b[0;31mImportError\u001b[0m                               Traceback (most recent call last)",
      "\u001b[1;32m/Users/annelouisedeboer/Documents/GitHub/MultiMediaAnalytics/MMA/mma/testing.ipynb Cell 4\u001b[0m line \u001b[0;36m1\n\u001b[0;32m----> <a href='vscode-notebook-cell:/Users/annelouisedeboer/Documents/GitHub/MultiMediaAnalytics/MMA/mma/testing.ipynb#W5sZmlsZQ%3D%3D?line=0'>1</a>\u001b[0m \u001b[39mfrom\u001b[39;00m \u001b[39mjupyterlab_dagitty\u001b[39;00m \u001b[39mimport\u001b[39;00m DAG, plot\n\u001b[1;32m      <a href='vscode-notebook-cell:/Users/annelouisedeboer/Documents/GitHub/MultiMediaAnalytics/MMA/mma/testing.ipynb#W5sZmlsZQ%3D%3D?line=2'>3</a>\u001b[0m m_bias_code \u001b[39m=\u001b[39m \u001b[39m\"\"\"\u001b[39m\n\u001b[1;32m      <a href='vscode-notebook-cell:/Users/annelouisedeboer/Documents/GitHub/MultiMediaAnalytics/MMA/mma/testing.ipynb#W5sZmlsZQ%3D%3D?line=3'>4</a>\u001b[0m \u001b[39m    dag \u001b[39m\u001b[39m{\u001b[39m\n\u001b[1;32m      <a href='vscode-notebook-cell:/Users/annelouisedeboer/Documents/GitHub/MultiMediaAnalytics/MMA/mma/testing.ipynb#W5sZmlsZQ%3D%3D?line=4'>5</a>\u001b[0m \u001b[39m    A [pos=\u001b[39m\u001b[39m\"\u001b[39m\u001b[39m-2.200,-1.520\u001b[39m\u001b[39m\"\u001b[39m\u001b[39m]\u001b[39m\n\u001b[0;32m   (...)\u001b[0m\n\u001b[1;32m     <a href='vscode-notebook-cell:/Users/annelouisedeboer/Documents/GitHub/MultiMediaAnalytics/MMA/mma/testing.ipynb#W5sZmlsZQ%3D%3D?line=14'>15</a>\u001b[0m \u001b[39m    }\u001b[39m\n\u001b[1;32m     <a href='vscode-notebook-cell:/Users/annelouisedeboer/Documents/GitHub/MultiMediaAnalytics/MMA/mma/testing.ipynb#W5sZmlsZQ%3D%3D?line=15'>16</a>\u001b[0m \u001b[39m    \u001b[39m\u001b[39m\"\"\"\u001b[39m\n\u001b[1;32m     <a href='vscode-notebook-cell:/Users/annelouisedeboer/Documents/GitHub/MultiMediaAnalytics/MMA/mma/testing.ipynb#W5sZmlsZQ%3D%3D?line=16'>17</a>\u001b[0m display_daggity(m_bias_code, height\u001b[39m=\u001b[39m\u001b[39m200\u001b[39m, mutable\u001b[39m=\u001b[39m\u001b[39mTrue\u001b[39;00m)\n",
      "\u001b[0;31mImportError\u001b[0m: cannot import name 'plot' from 'jupyterlab_dagitty' (/Users/annelouisedeboer/Documents/GitHub/MultiMediaAnalytics/.venv/lib/python3.9/site-packages/jupyterlab_dagitty/__init__.py)"
     ]
    }
   ],
   "source": [
    "from jupyterlab_dagitty import DAG\n",
    "\n",
    "m_bias_code = \"\"\"\n",
    "    dag {\n",
    "    A [pos=\"-2.200,-1.520\"]\n",
    "    B [pos=\"1.400,-1.460\"]\n",
    "    D [outcome,pos=\"1.400,1.621\"]\n",
    "    E [exposure,pos=\"-2.200,1.597\"]\n",
    "    Z [pos=\"-0.300,-0.082\"]\n",
    "    A -> E\n",
    "    A -> Z [pos=\"-0.791,-1.045\"]\n",
    "    B -> D\n",
    "    B -> Z [pos=\"0.680,-0.496\"]\n",
    "    E -> D\n",
    "    }\n",
    "    \"\"\"\n",
    "display_daggity(m_bias_code, height=200, mutable=True)\n"
   ]
  },
  {
   "cell_type": "code",
   "execution_count": 24,
   "metadata": {},
   "outputs": [
    {
     "ename": "NameError",
     "evalue": "name 'plot' is not defined",
     "output_type": "error",
     "traceback": [
      "\u001b[0;31m---------------------------------------------------------------------------\u001b[0m",
      "\u001b[0;31mNameError\u001b[0m                                 Traceback (most recent call last)",
      "\u001b[1;32m/Users/annelouisedeboer/Documents/GitHub/MultiMediaAnalytics/MMA/mma/testing.ipynb Cell 5\u001b[0m line \u001b[0;36m8\n\u001b[1;32m      <a href='vscode-notebook-cell:/Users/annelouisedeboer/Documents/GitHub/MultiMediaAnalytics/MMA/mma/testing.ipynb#X10sZmlsZQ%3D%3D?line=4'>5</a>\u001b[0m dag \u001b[39m=\u001b[39m DAG(dag_string)\n\u001b[1;32m      <a href='vscode-notebook-cell:/Users/annelouisedeboer/Documents/GitHub/MultiMediaAnalytics/MMA/mma/testing.ipynb#X10sZmlsZQ%3D%3D?line=6'>7</a>\u001b[0m \u001b[39m# Convert DAG to Plotly graph\u001b[39;00m\n\u001b[0;32m----> <a href='vscode-notebook-cell:/Users/annelouisedeboer/Documents/GitHub/MultiMediaAnalytics/MMA/mma/testing.ipynb#X10sZmlsZQ%3D%3D?line=7'>8</a>\u001b[0m fig \u001b[39m=\u001b[39m plot(view\u001b[39m=\u001b[39m\u001b[39m\"\u001b[39m\u001b[39mgraph\u001b[39m\u001b[39m\"\u001b[39m)\n",
      "\u001b[0;31mNameError\u001b[0m: name 'plot' is not defined"
     ]
    }
   ],
   "source": [
    "import plotly.graph_objects as go\n",
    "\n",
    "# Load the DAG from a string or file\n",
    "dag_string = \"X -> Y; X -> Z; Y -> Z\"\n",
    "dag = DAG(dag_string)\n",
    "\n",
    "# Convert DAG to Plotly graph\n",
    "fig = plot(view=\"graph\")\n"
   ]
  }
 ],
 "metadata": {
  "kernelspec": {
   "display_name": ".venv",
   "language": "python",
   "name": "python3"
  },
  "language_info": {
   "codemirror_mode": {
    "name": "ipython",
    "version": 3
   },
   "file_extension": ".py",
   "mimetype": "text/x-python",
   "name": "python",
   "nbconvert_exporter": "python",
   "pygments_lexer": "ipython3",
   "version": "3.9.6"
  },
  "orig_nbformat": 4
 },
 "nbformat": 4,
 "nbformat_minor": 2
}
